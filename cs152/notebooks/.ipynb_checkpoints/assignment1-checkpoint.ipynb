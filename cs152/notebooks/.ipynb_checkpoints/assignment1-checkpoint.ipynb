{
 "cells": [
  {
   "cell_type": "markdown",
   "metadata": {
    "colab_type": "text",
    "id": "Dk9nw5DKCW6M"
   },
   "source": [
    "Team: Laurel Newman and Dhruv Sawhney"
   ]
  },
  {
   "cell_type": "markdown",
   "metadata": {
    "colab_type": "text",
    "id": "1r81I9InCQz7"
   },
   "source": [
    "## Dog Breed Identification"
   ]
  },
  {
   "cell_type": "code",
   "execution_count": null,
   "metadata": {
    "colab": {},
    "colab_type": "code",
    "id": "FW2sRFAdCQz9"
   },
   "outputs": [],
   "source": [
    "# Put these at the top of every notebook, to get automatic reloading and inline plotting\n",
    "%reload_ext autoreload\n",
    "%autoreload 2\n",
    "%matplotlib inline"
   ]
  },
  {
   "cell_type": "code",
   "execution_count": null,
   "metadata": {
    "colab": {},
    "colab_type": "code",
    "id": "jsUsZVaMCQz_"
   },
   "outputs": [],
   "source": [
    "# This file contains all the main external libs we'll use\n",
    "from fastai.imports import *"
   ]
  },
  {
   "cell_type": "code",
   "execution_count": null,
   "metadata": {
    "colab": {},
    "colab_type": "code",
    "id": "s2VtmOfkCQ0C"
   },
   "outputs": [],
   "source": [
    "from fastai.transforms import *\n",
    "from fastai.conv_learner import *\n",
    "from fastai.model import *\n",
    "from fastai.dataset import *\n",
    "from fastai.sgdr import *\n",
    "from fastai.plots import *"
   ]
  },
  {
   "cell_type": "markdown",
   "metadata": {
    "colab_type": "text",
    "id": "6BMEEBTOCQ0E"
   },
   "source": [
    "`PATH` is the path to your data—if you use the recommended setup approaches from the lesson, you won't need to change this. `sz` is the size that the images will be resized to in order to ensure that the training runs quickly. We'll be talking about this parameter a lot during the course. Leave it at `224` for now."
   ]
  },
  {
   "cell_type": "code",
   "execution_count": null,
   "metadata": {
    "colab": {},
    "colab_type": "code",
    "id": "jzxK9aBrCQ0F"
   },
   "outputs": [],
   "source": [
    "arch=resnet34\n",
    "PATH = \"../../data/competitions/dog-breed-identification/\"\n",
    "sz=224"
   ]
  },
  {
   "cell_type": "markdown",
   "metadata": {
    "colab_type": "text",
    "id": "b-SbdtP5CQ0J"
   },
   "source": [
    "## First look inside data directory"
   ]
  },
  {
   "cell_type": "code",
   "execution_count": null,
   "metadata": {
    "colab": {},
    "colab_type": "code",
    "id": "CUaxGYNOCQ0J",
    "outputId": "4de0a953-1f33-42bb-acd8-b43f9be3cc9b"
   },
   "outputs": [
    {
     "data": {
      "text/plain": [
       "['test',\n",
       " 'labels.csv.zip',\n",
       " 'test.zip',\n",
       " 'models',\n",
       " 'sample_submission.csv.zip',\n",
       " 'sample_submission.csv',\n",
       " 'train',\n",
       " 'labels.csv',\n",
       " 'train.zip',\n",
       " 'tmp']"
      ]
     },
     "execution_count": 23,
     "metadata": {
      "tags": []
     },
     "output_type": "execute_result"
    }
   ],
   "source": [
    "os.listdir(PATH)"
   ]
  },
  {
   "cell_type": "markdown",
   "metadata": {
    "colab_type": "text",
    "id": "9QPLI4LVCQ0R"
   },
   "source": [
    "## Training the Model"
   ]
  },
  {
   "cell_type": "code",
   "execution_count": null,
   "metadata": {
    "colab": {},
    "colab_type": "code",
    "id": "N4kPk76ICQ0U"
   },
   "outputs": [],
   "source": [
    "label_csv = f'{PATH}labels.csv'\n",
    "n = len(list(open(label_csv)))-1\n",
    "# gets indices of a random 20% of the training data to use as validation data \n",
    "# from label.csv\n",
    "val_idxs = get_cv_idxs(n)"
   ]
  },
  {
   "cell_type": "code",
   "execution_count": null,
   "metadata": {
    "colab": {},
    "colab_type": "code",
    "id": "6PTDxhndCQ0W"
   },
   "outputs": [],
   "source": [
    "# from_csv handles the internals of mapping the labels and indices to the jpg\n",
    "# training images (note that it also considers our random validation images)\n",
    "# We used https://medium.com/@hiromi_suenaga/deep-learning-2-part-1-lesson-2-eeae2edd2be4\n",
    "# to understand the library\n",
    "data = ImageClassifierData.from_csv(PATH, 'train', \n",
    "                 f'{PATH}labels.csv', test_name='test', \n",
    "                 val_idxs=val_idxs, suffix='.jpg', tfms=tfms_from_model(arch, sz))"
   ]
  },
  {
   "cell_type": "code",
   "execution_count": null,
   "metadata": {
    "colab": {},
    "colab_type": "code",
    "id": "lXUqlkpaCQ0Y",
    "outputId": "921aa4ef-6ab0-4276-bf00-ed764ac72979"
   },
   "outputs": [
    {
     "data": {
      "application/vnd.jupyter.widget-view+json": {
       "model_id": "5c9065fea4d847baa8dd61925493adce",
       "version_major": 2,
       "version_minor": 0
      },
      "text/plain": [
       "HBox(children=(IntProgress(value=0, description='Epoch', max=5), HTML(value='')))"
      ]
     },
     "metadata": {
      "tags": []
     },
     "output_type": "display_data"
    },
    {
     "name": "stdout",
     "output_type": "stream",
     "text": [
      "epoch      trn_loss   val_loss   accuracy   \n",
      "    0      2.144187   1.068618   0.76272   \n",
      "    1      1.084871   0.695777   0.812622  \n",
      "    2      0.767042   0.607577   0.82045   \n",
      "    3      0.647296   0.566311   0.829256  \n",
      "    4      0.575839   0.539291   0.830724  \n",
      "\n"
     ]
    },
    {
     "data": {
      "text/plain": [
       "[array([0.53929]), 0.8307240702168116]"
      ]
     },
     "execution_count": 54,
     "metadata": {
      "tags": []
     },
     "output_type": "execute_result"
    }
   ],
   "source": [
    "# We tried five learning rates and settled on this one as working the best within\n",
    "# a reasonably small number of epochs\n",
    "# Our benchmark was two things: high accuracy (to prevent underfitting) and\n",
    "# minimal change from training loss to validation loss (to prevent overfitting)\n",
    "learn = ConvLearner.pretrained(arch, data, precompute=True)\n",
    "learn.fit(0.01, 5)"
   ]
  },
  {
   "cell_type": "markdown",
   "metadata": {
    "colab_type": "text",
    "id": "eJImiXr2CQ0c"
   },
   "source": [
    "## Prediciting on test data and writing it out\n"
   ]
  },
  {
   "cell_type": "code",
   "execution_count": null,
   "metadata": {
    "colab": {},
    "colab_type": "code",
    "id": "7TeQFqOFCQ0d",
    "outputId": "a1fcc4d2-feb8-40b6-f7ca-ebf3fb65fe64"
   },
   "outputs": [
    {
     "data": {
      "text/plain": [
       "['test/a9a33f0585e5af26dffd6dc0a00ba88f.jpg',\n",
       " 'test/2e1d705a46d57f75f2572a9e23b162d6.jpg',\n",
       " 'test/332eff8d1e8f55a0e7335a1552f681ef.jpg',\n",
       " 'test/74b133bbc2d4ece626394bdec13d702a.jpg',\n",
       " 'test/b7e6c5746e5fc25b72ef66a61bee779a.jpg',\n",
       " 'test/17f840f8bfc7ef60eec37f9ee52c9517.jpg',\n",
       " 'test/da11b66ad92ddfc032e4ec4898fc4757.jpg',\n",
       " 'test/c3bfcaf712a23d793c02737a9007a971.jpg',\n",
       " 'test/4bed4a04a5044e14f3dc575968265fa0.jpg',\n",
       " 'test/463584a0691d71068ed4f92632aef176.jpg']"
      ]
     },
     "execution_count": 55,
     "metadata": {
      "tags": []
     },
     "output_type": "execute_result"
    }
   ],
   "source": [
    "# check the format of the data filenames\n",
    "data.test_ds.fnames[:10]"
   ]
  },
  {
   "cell_type": "markdown",
   "metadata": {
    "colab_type": "text",
    "id": "3yuVvJV4CQ0h"
   },
   "source": [
    "Let's make predictions for that test data.  Remember that we're given log probabilities which we must \n",
    "exponentiate in order to yield true probabilities."
   ]
  },
  {
   "cell_type": "code",
   "execution_count": null,
   "metadata": {
    "colab": {},
    "colab_type": "code",
    "id": "4dfhRJYbCQ0h"
   },
   "outputs": [],
   "source": [
    "log_preds, y = learn.predict_with_targs(is_test=True) # use test dataset rather than validation dataset\n",
    "probs = np.exp(log_preds)"
   ]
  },
  {
   "cell_type": "code",
   "execution_count": null,
   "metadata": {
    "colab": {},
    "colab_type": "code",
    "id": "UBDcC6FnCQ0k",
    "outputId": "65fa9a11-5aa7-48eb-a996-dcaab19448d6"
   },
   "outputs": [
    {
     "data": {
      "text/plain": [
       "(10357, 120)"
      ]
     },
     "execution_count": 57,
     "metadata": {
      "tags": []
     },
     "output_type": "execute_result"
    }
   ],
   "source": [
    "probs.shape # (n_images, n_classes)"
   ]
  },
  {
   "cell_type": "code",
   "execution_count": null,
   "metadata": {
    "colab": {},
    "colab_type": "code",
    "id": "MR9YaBErCQ0o",
    "outputId": "a056bc6f-9081-4f98-ceae-f117d01675ba"
   },
   "outputs": [
    {
     "data": {
      "text/plain": [
       "['affenpinscher',\n",
       " 'afghan_hound',\n",
       " 'african_hunting_dog',\n",
       " 'airedale',\n",
       " 'american_staffordshire_terrier',\n",
       " 'appenzeller',\n",
       " 'australian_terrier',\n",
       " 'basenji',\n",
       " 'basset',\n",
       " 'beagle',\n",
       " 'bedlington_terrier',\n",
       " 'bernese_mountain_dog',\n",
       " 'black-and-tan_coonhound',\n",
       " 'blenheim_spaniel',\n",
       " 'bloodhound',\n",
       " 'bluetick',\n",
       " 'border_collie',\n",
       " 'border_terrier',\n",
       " 'borzoi',\n",
       " 'boston_bull',\n",
       " 'bouvier_des_flandres',\n",
       " 'boxer',\n",
       " 'brabancon_griffon',\n",
       " 'briard',\n",
       " 'brittany_spaniel',\n",
       " 'bull_mastiff',\n",
       " 'cairn',\n",
       " 'cardigan',\n",
       " 'chesapeake_bay_retriever',\n",
       " 'chihuahua',\n",
       " 'chow',\n",
       " 'clumber',\n",
       " 'cocker_spaniel',\n",
       " 'collie',\n",
       " 'curly-coated_retriever',\n",
       " 'dandie_dinmont',\n",
       " 'dhole',\n",
       " 'dingo',\n",
       " 'doberman',\n",
       " 'english_foxhound',\n",
       " 'english_setter',\n",
       " 'english_springer',\n",
       " 'entlebucher',\n",
       " 'eskimo_dog',\n",
       " 'flat-coated_retriever',\n",
       " 'french_bulldog',\n",
       " 'german_shepherd',\n",
       " 'german_short-haired_pointer',\n",
       " 'giant_schnauzer',\n",
       " 'golden_retriever',\n",
       " 'gordon_setter',\n",
       " 'great_dane',\n",
       " 'great_pyrenees',\n",
       " 'greater_swiss_mountain_dog',\n",
       " 'groenendael',\n",
       " 'ibizan_hound',\n",
       " 'irish_setter',\n",
       " 'irish_terrier',\n",
       " 'irish_water_spaniel',\n",
       " 'irish_wolfhound',\n",
       " 'italian_greyhound',\n",
       " 'japanese_spaniel',\n",
       " 'keeshond',\n",
       " 'kelpie',\n",
       " 'kerry_blue_terrier',\n",
       " 'komondor',\n",
       " 'kuvasz',\n",
       " 'labrador_retriever',\n",
       " 'lakeland_terrier',\n",
       " 'leonberg',\n",
       " 'lhasa',\n",
       " 'malamute',\n",
       " 'malinois',\n",
       " 'maltese_dog',\n",
       " 'mexican_hairless',\n",
       " 'miniature_pinscher',\n",
       " 'miniature_poodle',\n",
       " 'miniature_schnauzer',\n",
       " 'newfoundland',\n",
       " 'norfolk_terrier',\n",
       " 'norwegian_elkhound',\n",
       " 'norwich_terrier',\n",
       " 'old_english_sheepdog',\n",
       " 'otterhound',\n",
       " 'papillon',\n",
       " 'pekinese',\n",
       " 'pembroke',\n",
       " 'pomeranian',\n",
       " 'pug',\n",
       " 'redbone',\n",
       " 'rhodesian_ridgeback',\n",
       " 'rottweiler',\n",
       " 'saint_bernard',\n",
       " 'saluki',\n",
       " 'samoyed',\n",
       " 'schipperke',\n",
       " 'scotch_terrier',\n",
       " 'scottish_deerhound',\n",
       " 'sealyham_terrier',\n",
       " 'shetland_sheepdog',\n",
       " 'shih-tzu',\n",
       " 'siberian_husky',\n",
       " 'silky_terrier',\n",
       " 'soft-coated_wheaten_terrier',\n",
       " 'staffordshire_bullterrier',\n",
       " 'standard_poodle',\n",
       " 'standard_schnauzer',\n",
       " 'sussex_spaniel',\n",
       " 'tibetan_mastiff',\n",
       " 'tibetan_terrier',\n",
       " 'toy_poodle',\n",
       " 'toy_terrier',\n",
       " 'vizsla',\n",
       " 'walker_hound',\n",
       " 'weimaraner',\n",
       " 'welsh_springer_spaniel',\n",
       " 'west_highland_white_terrier',\n",
       " 'whippet',\n",
       " 'wire-haired_fox_terrier',\n",
       " 'yorkshire_terrier']"
      ]
     },
     "execution_count": 58,
     "metadata": {
      "tags": []
     },
     "output_type": "execute_result"
    }
   ],
   "source": [
    "# check the labels for all the classes\n",
    "data.classes"
   ]
  },
  {
   "cell_type": "code",
   "execution_count": null,
   "metadata": {
    "colab": {},
    "colab_type": "code",
    "id": "XliHE55wCQ0s",
    "outputId": "76802798-2751-4c81-acba-ac73e77e23cd"
   },
   "outputs": [
    {
     "data": {
      "text/plain": [
       "array([[0.00002, 0.00001, 0.00251, ..., 0.00005, 0.00005, 0.00001],\n",
       "       [0.00039, 0.00131, 0.00001, ..., 0.01253, 0.00017, 0.00002],\n",
       "       [0.00008, 0.00018, 0.     , ..., 0.00002, 0.00004, 0.00003],\n",
       "       ...,\n",
       "       [0.     , 0.     , 0.     , ..., 0.     , 0.     , 0.     ],\n",
       "       [0.     , 0.00014, 0.     , ..., 0.00028, 0.00055, 0.00001],\n",
       "       [0.00025, 0.00002, 0.05882, ..., 0.00086, 0.83517, 0.00008]], dtype=float32)"
      ]
     },
     "execution_count": 62,
     "metadata": {
      "tags": []
     },
     "output_type": "execute_result"
    }
   ],
   "source": [
    "# see what the probabilities look like\n",
    "probs[:,0:]"
   ]
  },
  {
   "cell_type": "markdown",
   "metadata": {
    "colab_type": "text",
    "id": "ArzJVwcxCQ0v"
   },
   "source": [
    "We create a Pandas DataFrame from the dog probabilities. We name the columns after each dog class as specified in the Kaggle sample submission CSV file."
   ]
  },
  {
   "cell_type": "code",
   "execution_count": null,
   "metadata": {
    "colab": {},
    "colab_type": "code",
    "id": "UDOsgin5CQ0z",
    "outputId": "6d274707-87f0-44c7-ded3-4c6de5d9e7fc"
   },
   "outputs": [
    {
     "name": "stdout",
     "output_type": "stream",
     "text": [
      "<class 'numpy.ndarray'>\n",
      "<class 'pandas.core.frame.DataFrame'>\n",
      "(10357, 120)\n",
      "   affenpinscher  afghan_hound  african_hunting_dog  airedale  \\\n",
      "0       0.000013      0.000020             0.000006  0.002514   \n",
      "1       0.000003      0.000390             0.001307  0.000009   \n",
      "2       0.000118      0.000081             0.000184  0.000004   \n",
      "3       0.000001      0.000048             0.000031  0.000028   \n",
      "4       0.001611      0.001757             0.000010  0.000013   \n",
      "\n",
      "   american_staffordshire_terrier   appenzeller  australian_terrier   basenji  \\\n",
      "0                    4.386695e-05  3.392660e-05            0.000005  0.000008   \n",
      "1                    8.680340e-03  5.044078e-05            0.000039  0.000167   \n",
      "2                    9.590101e-06  6.962547e-05            0.000008  0.000009   \n",
      "3                    5.549327e-07  7.073843e-07            0.000003  0.000001   \n",
      "4                    2.436390e-05  7.664322e-06            0.001042  0.000005   \n",
      "\n",
      "         basset        beagle        ...            toy_poodle   toy_terrier  \\\n",
      "0  2.513368e-07  3.402863e-07        ...          9.040908e-07  4.101499e-07   \n",
      "1  2.605283e-04  7.299666e-05        ...          1.864011e-05  1.740458e-03   \n",
      "2  2.177278e-03  6.305919e-04        ...          3.127030e-05  1.126626e-05   \n",
      "3  9.660990e-07  3.773585e-08        ...          1.577144e-06  1.959567e-06   \n",
      "4  3.467300e-05  4.985237e-05        ...          3.210986e-04  2.747978e-05   \n",
      "\n",
      "     vizsla  walker_hound  weimaraner  welsh_springer_spaniel  \\\n",
      "0  0.000105  3.339394e-06    0.000054                0.000001   \n",
      "1  0.000198  9.494134e-04    0.041927                0.000301   \n",
      "2  0.000249  3.660477e-03    0.001071                0.000128   \n",
      "3  0.000298  3.023067e-07    0.000025                0.000351   \n",
      "4  0.000031  6.789387e-05    0.000044                0.000009   \n",
      "\n",
      "   west_highland_white_terrier   whippet  wire-haired_fox_terrier  \\\n",
      "0                 3.372458e-06  0.000054             5.188238e-05   \n",
      "1                 3.541379e-03  0.012531             1.665042e-04   \n",
      "2                 2.316688e-05  0.000018             3.881233e-05   \n",
      "3                 2.569704e-07  0.000003             8.560021e-07   \n",
      "4                 1.268868e-05  0.000045             3.465577e-05   \n",
      "\n",
      "   yorkshire_terrier  \n",
      "0           0.000006  \n",
      "1           0.000022  \n",
      "2           0.000029  \n",
      "3           0.000004  \n",
      "4           0.006770  \n",
      "\n",
      "[5 rows x 120 columns]\n"
     ]
    }
   ],
   "source": [
    "df = pd.DataFrame(probs[:,0:])\n",
    "df.columns = data.classes"
   ]
  },
  {
   "cell_type": "markdown",
   "metadata": {
    "colab_type": "text",
    "id": "glM5Oe9-CQ01"
   },
   "source": [
    "We want a new first column named *id* that has the ID extracted from each test image's filename."
   ]
  },
  {
   "cell_type": "code",
   "execution_count": null,
   "metadata": {
    "colab": {},
    "colab_type": "code",
    "id": "lkfs6T0eCQ01"
   },
   "outputs": [],
   "source": [
    "df.insert(0, 'id', [o[5:-4] for o in data.test_ds.fnames])"
   ]
  },
  {
   "cell_type": "code",
   "execution_count": null,
   "metadata": {
    "colab": {},
    "colab_type": "code",
    "id": "9bVn6itxCQ03",
    "outputId": "15183835-4fe4-4674-efa0-db362338b85b"
   },
   "outputs": [
    {
     "data": {
      "text/html": [
       "<div>\n",
       "<style scoped>\n",
       "    .dataframe tbody tr th:only-of-type {\n",
       "        vertical-align: middle;\n",
       "    }\n",
       "\n",
       "    .dataframe tbody tr th {\n",
       "        vertical-align: top;\n",
       "    }\n",
       "\n",
       "    .dataframe thead th {\n",
       "        text-align: right;\n",
       "    }\n",
       "</style>\n",
       "<table border=\"1\" class=\"dataframe\">\n",
       "  <thead>\n",
       "    <tr style=\"text-align: right;\">\n",
       "      <th></th>\n",
       "      <th>id</th>\n",
       "      <th>affenpinscher</th>\n",
       "      <th>afghan_hound</th>\n",
       "      <th>african_hunting_dog</th>\n",
       "      <th>airedale</th>\n",
       "      <th>american_staffordshire_terrier</th>\n",
       "      <th>appenzeller</th>\n",
       "      <th>australian_terrier</th>\n",
       "      <th>basenji</th>\n",
       "      <th>basset</th>\n",
       "      <th>...</th>\n",
       "      <th>toy_poodle</th>\n",
       "      <th>toy_terrier</th>\n",
       "      <th>vizsla</th>\n",
       "      <th>walker_hound</th>\n",
       "      <th>weimaraner</th>\n",
       "      <th>welsh_springer_spaniel</th>\n",
       "      <th>west_highland_white_terrier</th>\n",
       "      <th>whippet</th>\n",
       "      <th>wire-haired_fox_terrier</th>\n",
       "      <th>yorkshire_terrier</th>\n",
       "    </tr>\n",
       "  </thead>\n",
       "  <tbody>\n",
       "    <tr>\n",
       "      <th>0</th>\n",
       "      <td>a9a33f0585e5af26dffd6dc0a00ba88f</td>\n",
       "      <td>0.000013</td>\n",
       "      <td>0.000020</td>\n",
       "      <td>0.000006</td>\n",
       "      <td>0.002514</td>\n",
       "      <td>4.386695e-05</td>\n",
       "      <td>3.392660e-05</td>\n",
       "      <td>0.000005</td>\n",
       "      <td>0.000008</td>\n",
       "      <td>2.513368e-07</td>\n",
       "      <td>...</td>\n",
       "      <td>9.040908e-07</td>\n",
       "      <td>4.101499e-07</td>\n",
       "      <td>0.000105</td>\n",
       "      <td>3.339394e-06</td>\n",
       "      <td>0.000054</td>\n",
       "      <td>0.000001</td>\n",
       "      <td>3.372458e-06</td>\n",
       "      <td>0.000054</td>\n",
       "      <td>5.188238e-05</td>\n",
       "      <td>0.000006</td>\n",
       "    </tr>\n",
       "    <tr>\n",
       "      <th>1</th>\n",
       "      <td>2e1d705a46d57f75f2572a9e23b162d6</td>\n",
       "      <td>0.000003</td>\n",
       "      <td>0.000390</td>\n",
       "      <td>0.001307</td>\n",
       "      <td>0.000009</td>\n",
       "      <td>8.680340e-03</td>\n",
       "      <td>5.044078e-05</td>\n",
       "      <td>0.000039</td>\n",
       "      <td>0.000167</td>\n",
       "      <td>2.605283e-04</td>\n",
       "      <td>...</td>\n",
       "      <td>1.864011e-05</td>\n",
       "      <td>1.740458e-03</td>\n",
       "      <td>0.000198</td>\n",
       "      <td>9.494134e-04</td>\n",
       "      <td>0.041927</td>\n",
       "      <td>0.000301</td>\n",
       "      <td>3.541379e-03</td>\n",
       "      <td>0.012531</td>\n",
       "      <td>1.665042e-04</td>\n",
       "      <td>0.000022</td>\n",
       "    </tr>\n",
       "    <tr>\n",
       "      <th>2</th>\n",
       "      <td>332eff8d1e8f55a0e7335a1552f681ef</td>\n",
       "      <td>0.000118</td>\n",
       "      <td>0.000081</td>\n",
       "      <td>0.000184</td>\n",
       "      <td>0.000004</td>\n",
       "      <td>9.590101e-06</td>\n",
       "      <td>6.962547e-05</td>\n",
       "      <td>0.000008</td>\n",
       "      <td>0.000009</td>\n",
       "      <td>2.177278e-03</td>\n",
       "      <td>...</td>\n",
       "      <td>3.127030e-05</td>\n",
       "      <td>1.126626e-05</td>\n",
       "      <td>0.000249</td>\n",
       "      <td>3.660477e-03</td>\n",
       "      <td>0.001071</td>\n",
       "      <td>0.000128</td>\n",
       "      <td>2.316688e-05</td>\n",
       "      <td>0.000018</td>\n",
       "      <td>3.881233e-05</td>\n",
       "      <td>0.000029</td>\n",
       "    </tr>\n",
       "    <tr>\n",
       "      <th>3</th>\n",
       "      <td>74b133bbc2d4ece626394bdec13d702a</td>\n",
       "      <td>0.000001</td>\n",
       "      <td>0.000048</td>\n",
       "      <td>0.000031</td>\n",
       "      <td>0.000028</td>\n",
       "      <td>5.549327e-07</td>\n",
       "      <td>7.073843e-07</td>\n",
       "      <td>0.000003</td>\n",
       "      <td>0.000001</td>\n",
       "      <td>9.660990e-07</td>\n",
       "      <td>...</td>\n",
       "      <td>1.577144e-06</td>\n",
       "      <td>1.959567e-06</td>\n",
       "      <td>0.000298</td>\n",
       "      <td>3.023067e-07</td>\n",
       "      <td>0.000025</td>\n",
       "      <td>0.000351</td>\n",
       "      <td>2.569704e-07</td>\n",
       "      <td>0.000003</td>\n",
       "      <td>8.560021e-07</td>\n",
       "      <td>0.000004</td>\n",
       "    </tr>\n",
       "    <tr>\n",
       "      <th>4</th>\n",
       "      <td>b7e6c5746e5fc25b72ef66a61bee779a</td>\n",
       "      <td>0.001611</td>\n",
       "      <td>0.001757</td>\n",
       "      <td>0.000010</td>\n",
       "      <td>0.000013</td>\n",
       "      <td>2.436390e-05</td>\n",
       "      <td>7.664322e-06</td>\n",
       "      <td>0.001042</td>\n",
       "      <td>0.000005</td>\n",
       "      <td>3.467300e-05</td>\n",
       "      <td>...</td>\n",
       "      <td>3.210986e-04</td>\n",
       "      <td>2.747978e-05</td>\n",
       "      <td>0.000031</td>\n",
       "      <td>6.789387e-05</td>\n",
       "      <td>0.000044</td>\n",
       "      <td>0.000009</td>\n",
       "      <td>1.268868e-05</td>\n",
       "      <td>0.000045</td>\n",
       "      <td>3.465577e-05</td>\n",
       "      <td>0.006770</td>\n",
       "    </tr>\n",
       "  </tbody>\n",
       "</table>\n",
       "<p>5 rows × 121 columns</p>\n",
       "</div>"
      ],
      "text/plain": [
       "                                 id  affenpinscher  afghan_hound  \\\n",
       "0  a9a33f0585e5af26dffd6dc0a00ba88f       0.000013      0.000020   \n",
       "1  2e1d705a46d57f75f2572a9e23b162d6       0.000003      0.000390   \n",
       "2  332eff8d1e8f55a0e7335a1552f681ef       0.000118      0.000081   \n",
       "3  74b133bbc2d4ece626394bdec13d702a       0.000001      0.000048   \n",
       "4  b7e6c5746e5fc25b72ef66a61bee779a       0.001611      0.001757   \n",
       "\n",
       "   african_hunting_dog  airedale  american_staffordshire_terrier  \\\n",
       "0             0.000006  0.002514                    4.386695e-05   \n",
       "1             0.001307  0.000009                    8.680340e-03   \n",
       "2             0.000184  0.000004                    9.590101e-06   \n",
       "3             0.000031  0.000028                    5.549327e-07   \n",
       "4             0.000010  0.000013                    2.436390e-05   \n",
       "\n",
       "    appenzeller  australian_terrier   basenji        basset  \\\n",
       "0  3.392660e-05            0.000005  0.000008  2.513368e-07   \n",
       "1  5.044078e-05            0.000039  0.000167  2.605283e-04   \n",
       "2  6.962547e-05            0.000008  0.000009  2.177278e-03   \n",
       "3  7.073843e-07            0.000003  0.000001  9.660990e-07   \n",
       "4  7.664322e-06            0.001042  0.000005  3.467300e-05   \n",
       "\n",
       "         ...            toy_poodle   toy_terrier    vizsla  walker_hound  \\\n",
       "0        ...          9.040908e-07  4.101499e-07  0.000105  3.339394e-06   \n",
       "1        ...          1.864011e-05  1.740458e-03  0.000198  9.494134e-04   \n",
       "2        ...          3.127030e-05  1.126626e-05  0.000249  3.660477e-03   \n",
       "3        ...          1.577144e-06  1.959567e-06  0.000298  3.023067e-07   \n",
       "4        ...          3.210986e-04  2.747978e-05  0.000031  6.789387e-05   \n",
       "\n",
       "   weimaraner  welsh_springer_spaniel  west_highland_white_terrier   whippet  \\\n",
       "0    0.000054                0.000001                 3.372458e-06  0.000054   \n",
       "1    0.041927                0.000301                 3.541379e-03  0.012531   \n",
       "2    0.001071                0.000128                 2.316688e-05  0.000018   \n",
       "3    0.000025                0.000351                 2.569704e-07  0.000003   \n",
       "4    0.000044                0.000009                 1.268868e-05  0.000045   \n",
       "\n",
       "   wire-haired_fox_terrier  yorkshire_terrier  \n",
       "0             5.188238e-05           0.000006  \n",
       "1             1.665042e-04           0.000022  \n",
       "2             3.881233e-05           0.000029  \n",
       "3             8.560021e-07           0.000004  \n",
       "4             3.465577e-05           0.006770  \n",
       "\n",
       "[5 rows x 121 columns]"
      ]
     },
     "execution_count": 84,
     "metadata": {
      "tags": []
     },
     "output_type": "execute_result"
    }
   ],
   "source": [
    "# check the output\n",
    "df.head()"
   ]
  },
  {
   "cell_type": "markdown",
   "metadata": {
    "colab_type": "text",
    "id": "PZhI1qINCQ07"
   },
   "source": [
    "We write into the *out* directory the dogscats_simple.zip CSV file."
   ]
  },
  {
   "cell_type": "code",
   "execution_count": null,
   "metadata": {
    "colab": {},
    "colab_type": "code",
    "id": "H-_7aAmdCQ07"
   },
   "outputs": [],
   "source": [
    "SUBM = f'../../out/'\n",
    "os.makedirs(SUBM, exist_ok=True)\n",
    "df.to_csv(f'{SUBM}dogBreedIdentification_simple.gz', compression='gzip', index=False)"
   ]
  },
  {
   "cell_type": "markdown",
   "metadata": {},
   "source": [
    "![Submission](kaggle_submission.png)"
   ]
  },
  {
   "cell_type": "code",
   "execution_count": null,
   "metadata": {},
   "outputs": [],
   "source": []
  }
 ],
 "metadata": {
  "colab": {
   "name": "assignment1.ipynb",
   "provenance": [],
   "version": "0.3.2"
  },
  "kernelspec": {
   "display_name": "Python 3",
   "language": "python",
   "name": "python3"
  },
  "language_info": {
   "codemirror_mode": {
    "name": "ipython",
    "version": 3
   },
   "file_extension": ".py",
   "mimetype": "text/x-python",
   "name": "python",
   "nbconvert_exporter": "python",
   "pygments_lexer": "ipython3",
   "version": "3.6.6"
  }
 },
 "nbformat": 4,
 "nbformat_minor": 2
}
